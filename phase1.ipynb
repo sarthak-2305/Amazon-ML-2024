{
 "cells": [
  {
   "cell_type": "code",
   "execution_count": 1,
   "metadata": {},
   "outputs": [],
   "source": [
    "import numpy as np\n",
    "import pandas as pd\n",
    "import easyocr as eo"
   ]
  },
  {
   "cell_type": "code",
   "execution_count": 2,
   "metadata": {},
   "outputs": [
    {
     "name": "stdout",
     "output_type": "stream",
     "text": [
      "hello world\n"
     ]
    }
   ],
   "source": [
    "print('hello world')"
   ]
  },
  {
   "cell_type": "code",
   "execution_count": 3,
   "metadata": {},
   "outputs": [],
   "source": [
    "df = pd.read_csv('dataset/train_train_train.csv')"
   ]
  },
  {
   "cell_type": "code",
   "execution_count": 4,
   "metadata": {},
   "outputs": [
    {
     "data": {
      "text/html": [
       "<div>\n",
       "<style scoped>\n",
       "    .dataframe tbody tr th:only-of-type {\n",
       "        vertical-align: middle;\n",
       "    }\n",
       "\n",
       "    .dataframe tbody tr th {\n",
       "        vertical-align: top;\n",
       "    }\n",
       "\n",
       "    .dataframe thead th {\n",
       "        text-align: right;\n",
       "    }\n",
       "</style>\n",
       "<table border=\"1\" class=\"dataframe\">\n",
       "  <thead>\n",
       "    <tr style=\"text-align: right;\">\n",
       "      <th></th>\n",
       "      <th>image_link</th>\n",
       "      <th>group_id</th>\n",
       "      <th>entity_name</th>\n",
       "      <th>entity_value</th>\n",
       "      <th>image_name</th>\n",
       "    </tr>\n",
       "  </thead>\n",
       "  <tbody>\n",
       "    <tr>\n",
       "      <th>0</th>\n",
       "      <td>https://m.media-amazon.com/images/I/61Am7goxaF...</td>\n",
       "      <td>178778</td>\n",
       "      <td>depth</td>\n",
       "      <td>3.9 centimetre</td>\n",
       "      <td>6617892b-9ef8-40dc-a834-4623584e4c44.jpg</td>\n",
       "    </tr>\n",
       "    <tr>\n",
       "      <th>1</th>\n",
       "      <td>https://m.media-amazon.com/images/I/51R8AlSuVK...</td>\n",
       "      <td>347320</td>\n",
       "      <td>depth</td>\n",
       "      <td>100.0 inch</td>\n",
       "      <td>0088cdf4-5092-4780-81be-dc41cdb4e9c4.jpg</td>\n",
       "    </tr>\n",
       "    <tr>\n",
       "      <th>2</th>\n",
       "      <td>https://m.media-amazon.com/images/I/51KghPIV6J...</td>\n",
       "      <td>826444</td>\n",
       "      <td>depth</td>\n",
       "      <td>90.0 millimetre</td>\n",
       "      <td>858aaef5-ad30-420a-966b-2ae49c5b8e87.jpg</td>\n",
       "    </tr>\n",
       "    <tr>\n",
       "      <th>3</th>\n",
       "      <td>https://m.media-amazon.com/images/I/51gqMA7+K0...</td>\n",
       "      <td>494658</td>\n",
       "      <td>depth</td>\n",
       "      <td>53.0 centimetre</td>\n",
       "      <td>4586f615-0158-4cdd-8201-f61965bd71dd.jpg</td>\n",
       "    </tr>\n",
       "    <tr>\n",
       "      <th>4</th>\n",
       "      <td>https://m.media-amazon.com/images/I/51YDWb+0+m...</td>\n",
       "      <td>861555</td>\n",
       "      <td>depth</td>\n",
       "      <td>217.0 millimetre</td>\n",
       "      <td>334836d1-92b8-4110-8713-fbbf56907fad.jpg</td>\n",
       "    </tr>\n",
       "  </tbody>\n",
       "</table>\n",
       "</div>"
      ],
      "text/plain": [
       "                                          image_link  group_id entity_name  \\\n",
       "0  https://m.media-amazon.com/images/I/61Am7goxaF...    178778       depth   \n",
       "1  https://m.media-amazon.com/images/I/51R8AlSuVK...    347320       depth   \n",
       "2  https://m.media-amazon.com/images/I/51KghPIV6J...    826444       depth   \n",
       "3  https://m.media-amazon.com/images/I/51gqMA7+K0...    494658       depth   \n",
       "4  https://m.media-amazon.com/images/I/51YDWb+0+m...    861555       depth   \n",
       "\n",
       "       entity_value                                image_name  \n",
       "0    3.9 centimetre  6617892b-9ef8-40dc-a834-4623584e4c44.jpg  \n",
       "1        100.0 inch  0088cdf4-5092-4780-81be-dc41cdb4e9c4.jpg  \n",
       "2   90.0 millimetre  858aaef5-ad30-420a-966b-2ae49c5b8e87.jpg  \n",
       "3   53.0 centimetre  4586f615-0158-4cdd-8201-f61965bd71dd.jpg  \n",
       "4  217.0 millimetre  334836d1-92b8-4110-8713-fbbf56907fad.jpg  "
      ]
     },
     "execution_count": 4,
     "metadata": {},
     "output_type": "execute_result"
    }
   ],
   "source": [
    "df.head()"
   ]
  },
  {
   "cell_type": "code",
   "execution_count": 5,
   "metadata": {},
   "outputs": [
    {
     "data": {
      "text/plain": [
       "Index(['image_link', 'group_id', 'entity_name', 'entity_value', 'image_name'], dtype='object')"
      ]
     },
     "execution_count": 5,
     "metadata": {},
     "output_type": "execute_result"
    }
   ],
   "source": [
    "df.columns"
   ]
  },
  {
   "cell_type": "code",
   "execution_count": 6,
   "metadata": {},
   "outputs": [
    {
     "name": "stderr",
     "output_type": "stream",
     "text": [
      "Downloading detection model, please wait. This may take several minutes depending upon your network connection.\n"
     ]
    },
    {
     "name": "stdout",
     "output_type": "stream",
     "text": [
      "Progress: |██████████████████████████████████████████████████| 100.0% Complete"
     ]
    },
    {
     "name": "stderr",
     "output_type": "stream",
     "text": [
      "Downloading recognition model, please wait. This may take several minutes depending upon your network connection.\n"
     ]
    },
    {
     "name": "stdout",
     "output_type": "stream",
     "text": [
      "Progress: |██████████████████████████████████████████████████| 100.0% Complete"
     ]
    },
    {
     "name": "stderr",
     "output_type": "stream",
     "text": [
      "/Users/sarthaktanwar/Coding/python-projects/Amazon-ML-2024/amazonenv/lib/python3.12/site-packages/easyocr/detection.py:85: FutureWarning: You are using `torch.load` with `weights_only=False` (the current default value), which uses the default pickle module implicitly. It is possible to construct malicious pickle data which will execute arbitrary code during unpickling (See https://github.com/pytorch/pytorch/blob/main/SECURITY.md#untrusted-models for more details). In a future release, the default value for `weights_only` will be flipped to `True`. This limits the functions that could be executed during unpickling. Arbitrary objects will no longer be allowed to be loaded via this mode unless they are explicitly allowlisted by the user via `torch.serialization.add_safe_globals`. We recommend you start setting `weights_only=True` for any use case where you don't have full control of the loaded file. Please open an issue on GitHub for any issues related to this experimental feature.\n",
      "  net.load_state_dict(copyStateDict(torch.load(trained_model, map_location=device)))\n",
      "/Users/sarthaktanwar/Coding/python-projects/Amazon-ML-2024/amazonenv/lib/python3.12/site-packages/easyocr/recognition.py:182: FutureWarning: You are using `torch.load` with `weights_only=False` (the current default value), which uses the default pickle module implicitly. It is possible to construct malicious pickle data which will execute arbitrary code during unpickling (See https://github.com/pytorch/pytorch/blob/main/SECURITY.md#untrusted-models for more details). In a future release, the default value for `weights_only` will be flipped to `True`. This limits the functions that could be executed during unpickling. Arbitrary objects will no longer be allowed to be loaded via this mode unless they are explicitly allowlisted by the user via `torch.serialization.add_safe_globals`. We recommend you start setting `weights_only=True` for any use case where you don't have full control of the loaded file. Please open an issue on GitHub for any issues related to this experimental feature.\n",
      "  model.load_state_dict(torch.load(model_path, map_location=device))\n"
     ]
    }
   ],
   "source": [
    "reader = eo.Reader(['en'])"
   ]
  },
  {
   "cell_type": "code",
   "execution_count": 7,
   "metadata": {},
   "outputs": [],
   "source": [
    "image_folder = 'dataset/Training'"
   ]
  },
  {
   "cell_type": "code",
   "execution_count": 29,
   "metadata": {},
   "outputs": [],
   "source": [
    "# Function to extract text from image\n",
    "def extract_text_from_image(image_path):\n",
    "    try:\n",
    "        # Read the image and extract text\n",
    "        simple_result = reader.readtext(image_path, detail=0)  # detail=0 gives just the text\n",
    "        detailed_result = reader.readtext(image_path)  # full output\n",
    "\n",
    "        # Convert all elements of detailed_result to string to avoid serialization issues\n",
    "        detailed_result_serializable = [[str(item) for item in sublist] for sublist in detailed_result]\n",
    "\n",
    "        return simple_result, detailed_result_serializable  # Return the list of extracted text\n",
    "    except Exception as e:\n",
    "        return str(e), str(e)"
   ]
  },
  {
   "cell_type": "code",
   "execution_count": 30,
   "metadata": {},
   "outputs": [],
   "source": [
    "df['extracted_info'] = \"\"\n",
    "df['full_info'] = \"\""
   ]
  },
  {
   "cell_type": "code",
   "execution_count": 31,
   "metadata": {},
   "outputs": [],
   "source": [
    "import os\n",
    "import json"
   ]
  },
  {
   "cell_type": "code",
   "execution_count": 32,
   "metadata": {},
   "outputs": [],
   "source": [
    "# Function to extract text from an image using the index in the CSV\n",
    "def extract_text_by_index(index):\n",
    "    if index < len(df):\n",
    "        image_name = df.loc[index, 'image_name']  # Get the image name based on the index\n",
    "        image_path = os.path.join('dataset/Training', image_name)  # Replace with your folder path\n",
    "        \n",
    "        # Extract text from the image\n",
    "        result = reader.readtext(image_path, detail=0)  # detail=0 gives just the text\n",
    "        \n",
    "        # Print the extracted text\n",
    "        print(f\"Extracted Text from {image_name}: {result}\")\n",
    "    else:\n",
    "        print(\"Index out of range.\")"
   ]
  },
  {
   "cell_type": "code",
   "execution_count": 33,
   "metadata": {},
   "outputs": [
    {
     "name": "stdout",
     "output_type": "stream",
     "text": [
      "Extracted Text from 1a41dfc2-63dc-4af8-945e-1b3f65bac808.jpg: ['42\"', '80.5\"', '27.5\"']\n"
     ]
    }
   ],
   "source": [
    "extract_text_by_index(25)"
   ]
  },
  {
   "cell_type": "code",
   "execution_count": 34,
   "metadata": {},
   "outputs": [],
   "source": [
    "# Loop through the DataFrame and update the columns\n",
    "for index, row in df.iterrows():\n",
    "    image_path = os.path.join(image_folder, row['image_name'])\n",
    "    \n",
    "    # Extract text\n",
    "    simple_result, detailed_result = extract_text_from_image(image_path)\n",
    "    \n",
    "    # Store the results in the corresponding columns\n",
    "    df.at[index, 'extracted_text'] = simple_result  # Store simple text\n",
    "    \n",
    "    # Convert the detailed result to a JSON string to avoid Pandas storing issues\n",
    "    df.at[index, 'extracted_text_with_details'] = json.dumps(detailed_result)  # Store detailed output as JSON\n"
   ]
  },
  {
   "cell_type": "code",
   "execution_count": 36,
   "metadata": {},
   "outputs": [
    {
     "name": "stdout",
     "output_type": "stream",
     "text": [
      "Text extraction complete! The results have been saved to dataset/train_train_train_train.csv.\n"
     ]
    }
   ],
   "source": [
    "\n",
    "# Define the folder where you want to save the CSV\n",
    "output_folder = 'dataset/'  # Replace with your desired output folder path\n",
    "\n",
    "# Ensure the output folder exists\n",
    "os.makedirs(output_folder, exist_ok=True)\n",
    "\n",
    "# Define the full path for the output CSV file\n",
    "output_file = os.path.join(output_folder, 'train_train_train_train.csv')\n",
    "\n",
    "# Save the updated DataFrame to the new CSV file in the specific folder\n",
    "df.to_csv(output_file, index=False)\n",
    "\n",
    "print(f\"Text extraction complete! The results have been saved to {output_file}.\")"
   ]
  },
  {
   "cell_type": "code",
   "execution_count": 37,
   "metadata": {},
   "outputs": [
    {
     "data": {
      "text/plain": [
       "Index(['image_link', 'group_id', 'entity_name', 'entity_value', 'image_name',\n",
       "       'extracted_info', 'extracted_text', 'full_info',\n",
       "       'extracted_text_with_details'],\n",
       "      dtype='object')"
      ]
     },
     "execution_count": 37,
     "metadata": {},
     "output_type": "execute_result"
    }
   ],
   "source": [
    "df.columns"
   ]
  },
  {
   "cell_type": "code",
   "execution_count": 38,
   "metadata": {},
   "outputs": [],
   "source": [
    "df = df.drop(columns=['full_info'])\n",
    "df = df.drop(columns=['extracted_info'])"
   ]
  },
  {
   "cell_type": "code",
   "execution_count": 39,
   "metadata": {},
   "outputs": [
    {
     "data": {
      "text/plain": [
       "Index(['image_link', 'group_id', 'entity_name', 'entity_value', 'image_name',\n",
       "       'extracted_text', 'extracted_text_with_details'],\n",
       "      dtype='object')"
      ]
     },
     "execution_count": 39,
     "metadata": {},
     "output_type": "execute_result"
    }
   ],
   "source": [
    "df.columns"
   ]
  },
  {
   "cell_type": "code",
   "execution_count": 40,
   "metadata": {},
   "outputs": [
    {
     "data": {
      "text/plain": [
       "'dataset/train_train_train_train.csv'"
      ]
     },
     "execution_count": 40,
     "metadata": {},
     "output_type": "execute_result"
    }
   ],
   "source": [
    "output_file"
   ]
  },
  {
   "cell_type": "code",
   "execution_count": 41,
   "metadata": {},
   "outputs": [],
   "source": [
    "df.to_csv(output_file, index=False)"
   ]
  },
  {
   "cell_type": "code",
   "execution_count": null,
   "metadata": {},
   "outputs": [],
   "source": []
  }
 ],
 "metadata": {
  "kernelspec": {
   "display_name": "amazonenv",
   "language": "python",
   "name": "python3"
  },
  "language_info": {
   "codemirror_mode": {
    "name": "ipython",
    "version": 3
   },
   "file_extension": ".py",
   "mimetype": "text/x-python",
   "name": "python",
   "nbconvert_exporter": "python",
   "pygments_lexer": "ipython3",
   "version": "3.12.5"
  }
 },
 "nbformat": 4,
 "nbformat_minor": 2
}
