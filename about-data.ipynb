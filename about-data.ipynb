{
 "cells": [
  {
   "cell_type": "code",
   "execution_count": 1,
   "metadata": {},
   "outputs": [],
   "source": [
    "import numpy as np\n",
    "import pandas as pd"
   ]
  },
  {
   "cell_type": "code",
   "execution_count": 2,
   "metadata": {},
   "outputs": [
    {
     "name": "stdout",
     "output_type": "stream",
     "text": [
      "hello world\n"
     ]
    }
   ],
   "source": [
    "print('hello world')"
   ]
  },
  {
   "cell_type": "code",
   "execution_count": 3,
   "metadata": {},
   "outputs": [
    {
     "data": {
      "text/html": [
       "<div>\n",
       "<style scoped>\n",
       "    .dataframe tbody tr th:only-of-type {\n",
       "        vertical-align: middle;\n",
       "    }\n",
       "\n",
       "    .dataframe tbody tr th {\n",
       "        vertical-align: top;\n",
       "    }\n",
       "\n",
       "    .dataframe thead th {\n",
       "        text-align: right;\n",
       "    }\n",
       "</style>\n",
       "<table border=\"1\" class=\"dataframe\">\n",
       "  <thead>\n",
       "    <tr style=\"text-align: right;\">\n",
       "      <th></th>\n",
       "      <th>image_link</th>\n",
       "      <th>group_id</th>\n",
       "      <th>entity_name</th>\n",
       "      <th>entity_value</th>\n",
       "    </tr>\n",
       "  </thead>\n",
       "  <tbody>\n",
       "    <tr>\n",
       "      <th>0</th>\n",
       "      <td>https://m.media-amazon.com/images/I/61I9XdN6OF...</td>\n",
       "      <td>748919</td>\n",
       "      <td>item_weight</td>\n",
       "      <td>500.0 gram</td>\n",
       "    </tr>\n",
       "    <tr>\n",
       "      <th>1</th>\n",
       "      <td>https://m.media-amazon.com/images/I/71gSRbyXmo...</td>\n",
       "      <td>916768</td>\n",
       "      <td>item_volume</td>\n",
       "      <td>1.0 cup</td>\n",
       "    </tr>\n",
       "    <tr>\n",
       "      <th>2</th>\n",
       "      <td>https://m.media-amazon.com/images/I/61BZ4zrjZX...</td>\n",
       "      <td>459516</td>\n",
       "      <td>item_weight</td>\n",
       "      <td>0.709 gram</td>\n",
       "    </tr>\n",
       "    <tr>\n",
       "      <th>3</th>\n",
       "      <td>https://m.media-amazon.com/images/I/612mrlqiI4...</td>\n",
       "      <td>459516</td>\n",
       "      <td>item_weight</td>\n",
       "      <td>0.709 gram</td>\n",
       "    </tr>\n",
       "    <tr>\n",
       "      <th>4</th>\n",
       "      <td>https://m.media-amazon.com/images/I/617Tl40LOX...</td>\n",
       "      <td>731432</td>\n",
       "      <td>item_weight</td>\n",
       "      <td>1400 milligram</td>\n",
       "    </tr>\n",
       "  </tbody>\n",
       "</table>\n",
       "</div>"
      ],
      "text/plain": [
       "                                          image_link  group_id  entity_name  \\\n",
       "0  https://m.media-amazon.com/images/I/61I9XdN6OF...    748919  item_weight   \n",
       "1  https://m.media-amazon.com/images/I/71gSRbyXmo...    916768  item_volume   \n",
       "2  https://m.media-amazon.com/images/I/61BZ4zrjZX...    459516  item_weight   \n",
       "3  https://m.media-amazon.com/images/I/612mrlqiI4...    459516  item_weight   \n",
       "4  https://m.media-amazon.com/images/I/617Tl40LOX...    731432  item_weight   \n",
       "\n",
       "     entity_value  \n",
       "0      500.0 gram  \n",
       "1         1.0 cup  \n",
       "2      0.709 gram  \n",
       "3      0.709 gram  \n",
       "4  1400 milligram  "
      ]
     },
     "execution_count": 3,
     "metadata": {},
     "output_type": "execute_result"
    }
   ],
   "source": [
    "df = pd.read_csv('dataset/train.csv')\n",
    "df.head()"
   ]
  },
  {
   "cell_type": "code",
   "execution_count": 4,
   "metadata": {},
   "outputs": [
    {
     "data": {
      "text/plain": [
       "Index(['image_link', 'group_id', 'entity_name', 'entity_value'], dtype='object')"
      ]
     },
     "execution_count": 4,
     "metadata": {},
     "output_type": "execute_result"
    }
   ],
   "source": [
    "df.columns"
   ]
  },
  {
   "cell_type": "code",
   "execution_count": 5,
   "metadata": {},
   "outputs": [
    {
     "data": {
      "text/plain": [
       "image_link      object\n",
       "group_id         int64\n",
       "entity_name     object\n",
       "entity_value    object\n",
       "dtype: object"
      ]
     },
     "execution_count": 5,
     "metadata": {},
     "output_type": "execute_result"
    }
   ],
   "source": [
    "df.dtypes"
   ]
  },
  {
   "cell_type": "code",
   "execution_count": 6,
   "metadata": {},
   "outputs": [
    {
     "data": {
      "text/plain": [
       "(263859, 4)"
      ]
     },
     "execution_count": 6,
     "metadata": {},
     "output_type": "execute_result"
    }
   ],
   "source": [
    "df.shape"
   ]
  },
  {
   "cell_type": "code",
   "execution_count": 7,
   "metadata": {},
   "outputs": [
    {
     "name": "stdout",
     "output_type": "stream",
     "text": [
      "<class 'pandas.core.frame.DataFrame'>\n",
      "RangeIndex: 263859 entries, 0 to 263858\n",
      "Data columns (total 4 columns):\n",
      " #   Column        Non-Null Count   Dtype \n",
      "---  ------        --------------   ----- \n",
      " 0   image_link    263859 non-null  object\n",
      " 1   group_id      263859 non-null  int64 \n",
      " 2   entity_name   263859 non-null  object\n",
      " 3   entity_value  263859 non-null  object\n",
      "dtypes: int64(1), object(3)\n",
      "memory usage: 8.1+ MB\n"
     ]
    }
   ],
   "source": [
    "df.info()"
   ]
  },
  {
   "cell_type": "code",
   "execution_count": 8,
   "metadata": {},
   "outputs": [
    {
     "data": {
      "text/plain": [
       "array(['item_weight', 'item_volume', 'voltage', 'wattage',\n",
       "       'maximum_weight_recommendation', 'height', 'depth', 'width'],\n",
       "      dtype=object)"
      ]
     },
     "execution_count": 8,
     "metadata": {},
     "output_type": "execute_result"
    }
   ],
   "source": [
    "df['entity_name'].unique()"
   ]
  },
  {
   "cell_type": "code",
   "execution_count": 9,
   "metadata": {},
   "outputs": [
    {
     "data": {
      "text/plain": [
       "group_id\n",
       "459516    9458\n",
       "752266    9063\n",
       "281678    6137\n",
       "308856    5437\n",
       "731432    4741\n",
       "          ... \n",
       "997333       2\n",
       "656506       2\n",
       "314298       2\n",
       "178031       1\n",
       "226428       1\n",
       "Name: count, Length: 750, dtype: int64"
      ]
     },
     "execution_count": 9,
     "metadata": {},
     "output_type": "execute_result"
    }
   ],
   "source": [
    "df['group_id'].value_counts()"
   ]
  },
  {
   "cell_type": "code",
   "execution_count": 10,
   "metadata": {},
   "outputs": [
    {
     "name": "stderr",
     "output_type": "stream",
     "text": [
      "/var/folders/5l/f0_wp_g90h52fxd6wt9668y80000gn/T/ipykernel_36805/4067169204.py:1: DeprecationWarning: DataFrameGroupBy.apply operated on the grouping columns. This behavior is deprecated, and in a future version of pandas the grouping columns will be excluded from the operation. Either pass `include_groups=False` to exclude the groupings or explicitly select the grouping columns after groupby to silence this warning.\n",
      "  new_data_train = df.groupby('entity_name').apply(lambda x: x.sample(n=20, random_state=42)).reset_index(drop=True)\n"
     ]
    }
   ],
   "source": [
    "new_data_train = df.groupby('entity_name').apply(lambda x: x.sample(n=20, random_state=42)).reset_index(drop=True)"
   ]
  },
  {
   "cell_type": "code",
   "execution_count": 11,
   "metadata": {},
   "outputs": [],
   "source": [
    "new_data_train.to_csv('dataset/train_train.csv', index = False)"
   ]
  },
  {
   "cell_type": "code",
   "execution_count": 19,
   "metadata": {},
   "outputs": [
    {
     "name": "stdout",
     "output_type": "stream",
     "text": [
      "Downloaded: 6617892b-9ef8-40dc-a834-4623584e4c44.jpg\n",
      "Downloaded: 0088cdf4-5092-4780-81be-dc41cdb4e9c4.jpg\n",
      "Downloaded: 858aaef5-ad30-420a-966b-2ae49c5b8e87.jpg\n",
      "Downloaded: 4586f615-0158-4cdd-8201-f61965bd71dd.jpg\n",
      "Downloaded: 334836d1-92b8-4110-8713-fbbf56907fad.jpg\n",
      "Downloaded: 6c787435-010d-40d7-ad22-c81bf27ff7bc.jpg\n",
      "Downloaded: a5707843-0467-476b-afa9-1897b2710be3.jpg\n",
      "Downloaded: 0bf02e9a-548c-4482-9af5-eade186c0ea6.jpg\n",
      "Downloaded: 8bb533b8-85fd-4ca1-bc41-44651a68052e.jpg\n",
      "Downloaded: d2ab54c6-38ea-4df5-b6a1-22e937852452.jpg\n",
      "Downloaded: 136213d5-7c48-44d5-a0ee-c1c88c963d71.jpg\n",
      "Downloaded: ffa5b14d-a3ad-49e4-b547-7e309b412db6.jpg\n",
      "Downloaded: 4ca12cc4-075d-43a3-8ee8-53a3d36487d4.jpg\n",
      "Downloaded: 3a1cc47a-83f2-440d-bc9b-2c3c133e4c65.jpg\n",
      "Downloaded: 107a2753-41ef-4197-b04a-8038bbaf900b.jpg\n",
      "Downloaded: 43efd9fc-c5fb-4dbf-b3f3-22b5bbf6bea5.jpg\n",
      "Downloaded: 57cca976-c597-47fd-b277-40d6020d7c48.jpg\n",
      "Downloaded: d62ed541-c454-4c7f-8278-7b4e58f1e5cf.jpg\n",
      "Downloaded: 49ea9782-02b1-4976-b43f-666560b768f6.jpg\n",
      "Downloaded: 90422859-f628-4101-aa48-22cc231fbb12.jpg\n",
      "Downloaded: 15626355-106a-4873-8cf6-f9f94343c982.jpg\n",
      "Downloaded: 5cba67fc-cd29-4671-86f3-4d121c2395c5.jpg\n",
      "Downloaded: fe44612b-9c99-4cf3-b295-21812c13651e.jpg\n",
      "Downloaded: ee2dbf55-12b8-427b-b546-e592514eab82.jpg\n",
      "Downloaded: 5752f18f-5d09-45de-839c-d8d70f02d607.jpg\n",
      "Downloaded: 1a41dfc2-63dc-4af8-945e-1b3f65bac808.jpg\n",
      "Downloaded: 082efebf-c1aa-4521-9535-5750a8b5280d.jpg\n",
      "Downloaded: f5e1356a-6bf9-4a81-ab6d-88fc2b71f4aa.jpg\n",
      "Downloaded: a41b0c2a-796e-418a-8136-d49e810dc8b5.jpg\n",
      "Downloaded: 545787b5-f3ae-418b-ba94-246a750dfba2.jpg\n",
      "Downloaded: d116141d-a0fd-4a85-8cee-35d48c2d9ffe.jpg\n",
      "Downloaded: e1f07653-6234-43b9-b2b8-c296ccf5ef1c.jpg\n",
      "Downloaded: 627e17f0-aba4-4105-b3b7-b043cdea8259.jpg\n",
      "Downloaded: 4c1729ab-0eff-4db2-ac8a-ada1b474efcb.jpg\n",
      "Downloaded: caf1770a-f653-4b24-a8c4-d9fe46b36bb9.jpg\n",
      "Downloaded: 2031ad1b-ecef-4332-bfc0-d93eb7d31e5f.jpg\n",
      "Downloaded: 777cd597-f334-4796-b643-e106b6a6add8.jpg\n",
      "Downloaded: f337e1eb-9691-4a09-825d-2c347816291d.jpg\n",
      "Downloaded: ebb70406-66b4-4e5a-9af0-80078f52b518.jpg\n",
      "Downloaded: c85995aa-5d13-4a4e-9021-11f2da3373bd.jpg\n",
      "Downloaded: a6dcf93c-9e04-491b-8f0d-7f94e9c082ab.jpg\n",
      "Downloaded: d69c80b3-527c-4abf-8dde-4536c707eb9d.jpg\n",
      "Downloaded: 1896f6aa-e888-4d2f-8539-71f77fc82b8a.jpg\n",
      "Downloaded: 7d0ffa96-6039-4e8e-9e3a-ab139ebe7ee9.jpg\n",
      "Downloaded: e950ae07-9127-4c18-92ea-a9e05e24aa24.jpg\n",
      "Downloaded: 684aca0e-23a0-46d8-a792-b671c38d50c4.jpg\n",
      "Downloaded: 31985ea3-61f0-4d80-a4a9-63026ba248ff.jpg\n",
      "Downloaded: 4fadf5dc-d3f8-4862-8b03-de6588bbb8b7.jpg\n",
      "Downloaded: eafc82c0-38fc-41ba-a664-8a9bb72c99c5.jpg\n",
      "Downloaded: 3421f05a-2cce-4b2f-9eac-bbc79098bee4.jpg\n",
      "Downloaded: 0e0fd7e8-270b-4a85-9825-f65d2c6a95c8.jpg\n",
      "Downloaded: 2ce00519-c500-40c3-9fc2-60f7902f7a67.jpg\n",
      "Downloaded: 1d0368c7-a874-43d4-86c8-559a90aed865.jpg\n",
      "Downloaded: 5ec936e7-67fc-4f04-be60-3faf69a8775b.jpg\n",
      "Downloaded: 6f21f7c0-e158-4fc1-b57e-f43dd90ab08c.jpg\n",
      "Downloaded: 3ddabc35-72a0-4fa7-8638-fbd48a264141.jpg\n",
      "Downloaded: 3dfd5c50-3a0d-4fcc-abae-059a20e9542a.jpg\n",
      "Downloaded: f9d88445-e1cf-4ac2-bae0-c5e725596577.jpg\n",
      "Downloaded: a89aa8f4-9e24-4b41-82f7-2f77ded57303.jpg\n",
      "Downloaded: 13844f81-4c79-47c5-bab5-631e76f10a4f.jpg\n",
      "Downloaded: f3ad66da-50a8-4187-97a1-6f1d92f0ea4b.jpg\n",
      "Downloaded: 66611e86-5d31-497a-aa61-c5a52fe51909.jpg\n",
      "Downloaded: d91e4c0e-8c12-47db-b93f-6f558a5afbc0.jpg\n",
      "Downloaded: dbd95866-9dce-4bb7-80b3-4b0da87d30ed.jpg\n",
      "Downloaded: a3523428-d146-41a7-aa79-d1b682e04997.jpg\n",
      "Downloaded: 53446db5-5a49-46d6-9a31-16ae274ffcef.jpg\n",
      "Downloaded: 3d5d3f21-0bb4-4384-a150-1164a9b15bea.jpg\n",
      "Downloaded: 940b7aa9-bc3d-4e35-8853-197c793ec39d.jpg\n",
      "Downloaded: d9caacf3-8843-4658-b715-27034d8b969a.jpg\n",
      "Downloaded: f9fb36a4-2c01-4aae-aecc-dc7b7a21202f.jpg\n",
      "Downloaded: abb9e64b-6a5e-421f-b2b5-8c9ee8b219d6.jpg\n",
      "Downloaded: fd83d825-f829-492d-acf3-16f1ce863110.jpg\n",
      "Downloaded: c6337e9a-049c-4df6-9b5e-5119f1d60255.jpg\n",
      "Downloaded: 64442682-5635-48be-9134-dd205feb9dab.jpg\n",
      "Downloaded: f5f48c9a-6860-41b0-8c73-e9fc9ab7f41b.jpg\n",
      "Downloaded: eb6bfb9e-855c-4ff7-a473-132575f755ad.jpg\n",
      "Downloaded: 2a9e1484-0ae4-4ee8-900b-ea21da2d34ab.jpg\n",
      "Downloaded: f61938a6-d34d-4cd6-8a20-df526282c556.jpg\n",
      "Downloaded: b3dd2e66-37d0-459e-b326-685104a3cc49.jpg\n",
      "Downloaded: 286fd93c-dbef-4d9c-a599-b3b78b849b87.jpg\n",
      "Downloaded: 6e5a32a0-89f7-4c5a-8394-fdc7cea0650c.jpg\n",
      "Downloaded: 6ae178bd-35ec-463f-9db7-6015264e43de.jpg\n",
      "Downloaded: 10309ec7-5e4d-4aa1-b70f-14b6ddcc6e2b.jpg\n",
      "Downloaded: 2df6d0ef-81f4-4362-8c1b-f5a398a1ebe8.jpg\n",
      "Downloaded: 7fac2c38-07fd-47f9-8c5a-680e940968ea.jpg\n",
      "Downloaded: e18f03cc-4a48-4e7d-8d43-f8e7d9c9484b.jpg\n",
      "Downloaded: 58fca5fb-6cf3-4603-98ff-95c841b7e489.jpg\n",
      "Downloaded: b5efcd17-5806-4f94-aab6-bed0f7c19dc0.jpg\n",
      "Downloaded: 7b437fb6-81d5-472b-baaa-31e3afbed727.jpg\n",
      "Downloaded: 06d2c93f-327e-4521-841d-dd21e467e4fa.jpg\n",
      "Downloaded: 4884ebd1-d0fb-4c64-ac7c-d24064a3ece3.jpg\n",
      "Downloaded: 59a77f01-dbc5-41ca-96ec-f7586d265f05.jpg\n",
      "Downloaded: c2479c68-8f58-4b47-81e7-ad20541ff3a8.jpg\n",
      "Downloaded: 04cc0b39-23e1-4dbd-b754-1bd01f1cd641.jpg\n",
      "Downloaded: 7ee917bb-341f-4788-9ca1-51ef2da7e805.jpg\n",
      "Downloaded: 9fecd6f2-206b-42c3-8c78-347c1e84cb1e.jpg\n",
      "Downloaded: 84631176-140e-4b8a-bba2-5de981226d4c.jpg\n",
      "Downloaded: d18c804c-0170-47ef-972e-b3c9f0360405.jpg\n",
      "Downloaded: 9c8c8bac-9ac4-4b7d-bf9e-f8921fc712d6.jpg\n",
      "Downloaded: 1ef1ff04-bab9-4216-a867-a9094d13b1cb.jpg\n",
      "Downloaded: 0d873b58-17aa-4db8-8679-58357b32eb45.jpg\n",
      "Downloaded: bb6d1e95-e4ff-49d1-87ed-2de513a4a04d.jpg\n",
      "Downloaded: 43d44661-48c5-4aa0-8af6-13b6fa2b5b37.jpg\n",
      "Downloaded: bc5c7b48-31ff-4849-95da-cc9cad3cc8b7.jpg\n",
      "Downloaded: 82b71e23-2d40-4252-a6f9-561011b0f7b6.jpg\n",
      "Downloaded: 1a46ee0e-a83d-442b-a8e8-5a108671d6e6.jpg\n",
      "Downloaded: cd44b1c1-4397-4f46-b4b2-80a212c893fd.jpg\n",
      "Downloaded: 20d43679-9b0f-4633-94a9-89e68401e36d.jpg\n",
      "Downloaded: fb96f33f-e9b4-4081-bab7-a675abd334b5.jpg\n",
      "Downloaded: 33473dbb-65a3-4ea6-9cea-576a71882f1a.jpg\n",
      "Downloaded: 3a0fa497-8c7e-4537-b196-37f0bafa8da2.jpg\n",
      "Downloaded: 8c652f97-5e3d-4903-9f04-8933f8862ed9.jpg\n",
      "Downloaded: 9d3095de-0633-4932-aa44-0913abe14095.jpg\n",
      "Downloaded: f5ea0b75-8045-4171-a8b5-eab965664d64.jpg\n",
      "Downloaded: 55221340-b6cf-4cb4-b3ae-a1c5c07f715c.jpg\n",
      "Downloaded: de420cec-2cf4-48d6-a5db-8eb2d08a79ae.jpg\n",
      "Downloaded: 641c2764-f8ae-463e-ae71-2cd0ea57a0ce.jpg\n",
      "Downloaded: 6cb6184c-0d1d-4d51-bacb-3d4a466669fd.jpg\n",
      "Downloaded: fcc237f4-2ca1-4aa8-b760-b48a7e0e1c23.jpg\n",
      "Downloaded: 7c08cfb1-14bd-44a6-928d-d5453713d7fa.jpg\n",
      "Downloaded: 0408543a-5074-4af9-b75f-ac46f141611d.jpg\n",
      "Downloaded: 17c06f58-4601-45c4-b063-707409182c31.jpg\n",
      "Downloaded: dc35154b-1317-4bd0-83a1-c11f9686f0aa.jpg\n",
      "Downloaded: 3451544c-e787-4d1e-be97-9af192e03f11.jpg\n",
      "Downloaded: e6d2956f-9977-4f26-a710-7e6d2f7be298.jpg\n",
      "Downloaded: bc2e237b-0464-4f3a-b5d4-104f70ec987a.jpg\n",
      "Downloaded: 540f17af-efd0-4cb2-a379-f79458321be4.jpg\n",
      "Downloaded: 531600d9-22f4-4aec-aa9d-bb9087813ec6.jpg\n",
      "Downloaded: 7ccc62f6-bb48-41a4-afc6-01762ff5f7fd.jpg\n",
      "Downloaded: 06464580-5f16-42eb-9721-e1fa22be57f8.jpg\n",
      "Downloaded: 4df5975c-0221-4446-86cb-3ca4799f30ba.jpg\n",
      "Downloaded: 9037971b-392f-4b44-a459-2802cf949271.jpg\n",
      "Downloaded: 14ca622d-a7f6-4a9b-bc6f-2e78112120bf.jpg\n",
      "Downloaded: 7296aeb0-e81f-4962-8b2f-82fffa99ff49.jpg\n",
      "Downloaded: 39f3438b-bd23-4cc5-b676-b3bdef72e278.jpg\n",
      "Downloaded: c05bf12e-16a2-49a7-9f52-784cfefd6a09.jpg\n",
      "Downloaded: 5d92928c-4513-4b4f-8a7f-55f000835acf.jpg\n",
      "Downloaded: dcd76146-4949-45df-b2be-4991abb80b20.jpg\n",
      "Downloaded: 1b5826e1-6249-481d-82c3-f4fea0ae5ba2.jpg\n",
      "Downloaded: 03f31bce-3dc6-4454-92b4-6ebebdec5be0.jpg\n",
      "Downloaded: 7901bbda-2df8-41db-a7ac-01d354591c34.jpg\n",
      "Downloaded: 0065d704-375a-442d-abd7-aab5c73cfb74.jpg\n",
      "Downloaded: 0ebd79fa-3973-4b7c-86cf-04dc2e135039.jpg\n",
      "Downloaded: 1b573b4e-5c47-4697-bc3e-fd4b2dd589a9.jpg\n",
      "Downloaded: cbb68b49-16ce-403f-ad92-3be6c1b76e01.jpg\n",
      "Downloaded: 94da973a-023e-4986-9244-572616f9a0d8.jpg\n",
      "Downloaded: 18ad03f4-6cb7-48cf-a7c6-4a603442feef.jpg\n",
      "Downloaded: aa305486-91de-4469-a37d-89aff85ee2f8.jpg\n",
      "Downloaded: 783139a6-ddbe-4ffc-b253-81e85720baf9.jpg\n",
      "Downloaded: f62eca0c-3cb1-485b-9774-0242210e7bf5.jpg\n",
      "Downloaded: 1a9aca09-a847-40f6-8c2f-ca72861d9a4f.jpg\n",
      "Downloaded: 5a8d0387-9a86-4177-8016-7b88fdf6de6e.jpg\n",
      "Downloaded: 6a20d9eb-1239-4f8c-8fb3-811b3a2a6cf3.jpg\n",
      "Downloaded: b206140b-c78d-462b-ba63-eddc92d3c9bb.jpg\n",
      "Downloaded: 18de1874-61f8-4511-9b61-3cdcea0777de.jpg\n",
      "Downloaded: 163bb2c0-eef6-4793-b1dd-0f8f4d5e0983.jpg\n",
      "Downloaded: cec0e186-a5aa-4cbc-a971-59b4c85d000c.jpg\n",
      "Downloaded: 6335adfa-a8b5-4e85-b60d-3f2dc8626c26.jpg\n",
      "Downloaded: 5a2fbac8-c906-4914-933f-2cc8c0152046.jpg\n",
      "Downloaded: ddf44cb1-6030-4cb7-947c-8214a17c892f.jpg\n",
      "Updated CSV saved with image names.\n"
     ]
    }
   ],
   "source": [
    "import os\n",
    "import pandas as pd\n",
    "import requests\n",
    "from urllib.parse import urlsplit\n",
    "import uuid\n",
    "\n",
    "\n",
    "# Create a folder to save images if it doesn't exist\n",
    "image_folder = 'dataset/Training'\n",
    "if not os.path.exists(image_folder):\n",
    "    os.makedirs(image_folder)\n",
    "\n",
    "# Function to download and save an image with a unique name\n",
    "def download_image(image_url, folder, unique_name):\n",
    "    try:\n",
    "        # Create the full image path with a unique name\n",
    "        image_extension = urlsplit(image_url).path.split(\".\")[-1]\n",
    "        image_name = f\"{unique_name}.{image_extension}\"\n",
    "        image_path = os.path.join(folder, image_name)\n",
    "        \n",
    "        # Send a request to download the image\n",
    "        response = requests.get(image_url, stream=True)\n",
    "        \n",
    "        # Check if the request was successful\n",
    "        if response.status_code == 200:\n",
    "            # Write the image data to a file\n",
    "            with open(image_path, 'wb') as img_file:\n",
    "                for chunk in response.iter_content(1024):\n",
    "                    img_file.write(chunk)\n",
    "            print(f\"Downloaded: {image_name}\")\n",
    "            return image_name\n",
    "        else:\n",
    "            print(f\"Failed to download: {image_url}\")\n",
    "            return None\n",
    "    except Exception as e:\n",
    "        print(f\"Error downloading {image_url}: {e}\")\n",
    "        return None\n",
    "\n",
    "# List to store the generated image names\n",
    "image_names = []\n",
    "\n",
    "# Iterate through the image links, generate unique names, and download images\n",
    "for index, row in new_data_train.iterrows():\n",
    "    unique_name = str(uuid.uuid4())  # Generate a unique identifier for each image\n",
    "    image_name = download_image(row['image_link'], image_folder, unique_name)\n",
    "    image_names.append(image_name)\n",
    "\n",
    "# Add the new column for image names to the dataframe\n",
    "new_data_train['image_name'] = image_names\n",
    "\n",
    "# Save the updated dataframe back to a CSV file\n",
    "new_data_train.to_csv('dataset/train_train_train.csv', index=False)\n",
    "\n",
    "print(\"Updated CSV saved with image names.\")\n"
   ]
  },
  {
   "cell_type": "code",
   "execution_count": null,
   "metadata": {},
   "outputs": [],
   "source": []
  }
 ],
 "metadata": {
  "kernelspec": {
   "display_name": "amazonenv",
   "language": "python",
   "name": "python3"
  },
  "language_info": {
   "codemirror_mode": {
    "name": "ipython",
    "version": 3
   },
   "file_extension": ".py",
   "mimetype": "text/x-python",
   "name": "python",
   "nbconvert_exporter": "python",
   "pygments_lexer": "ipython3",
   "version": "3.12.5"
  }
 },
 "nbformat": 4,
 "nbformat_minor": 2
}
