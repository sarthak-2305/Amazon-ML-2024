{
 "cells": [
  {
   "cell_type": "code",
   "execution_count": 1,
   "metadata": {},
   "outputs": [],
   "source": [
    "import numpy as np\n",
    "import pandas as pd"
   ]
  },
  {
   "cell_type": "code",
   "execution_count": 2,
   "metadata": {},
   "outputs": [
    {
     "name": "stdout",
     "output_type": "stream",
     "text": [
      "hello world\n"
     ]
    }
   ],
   "source": [
    "print('hello world')"
   ]
  },
  {
   "cell_type": "code",
   "execution_count": 3,
   "metadata": {},
   "outputs": [
    {
     "data": {
      "text/html": [
       "<div>\n",
       "<style scoped>\n",
       "    .dataframe tbody tr th:only-of-type {\n",
       "        vertical-align: middle;\n",
       "    }\n",
       "\n",
       "    .dataframe tbody tr th {\n",
       "        vertical-align: top;\n",
       "    }\n",
       "\n",
       "    .dataframe thead th {\n",
       "        text-align: right;\n",
       "    }\n",
       "</style>\n",
       "<table border=\"1\" class=\"dataframe\">\n",
       "  <thead>\n",
       "    <tr style=\"text-align: right;\">\n",
       "      <th></th>\n",
       "      <th>image_link</th>\n",
       "      <th>group_id</th>\n",
       "      <th>entity_name</th>\n",
       "      <th>entity_value</th>\n",
       "    </tr>\n",
       "  </thead>\n",
       "  <tbody>\n",
       "    <tr>\n",
       "      <th>0</th>\n",
       "      <td>https://m.media-amazon.com/images/I/61I9XdN6OF...</td>\n",
       "      <td>748919</td>\n",
       "      <td>item_weight</td>\n",
       "      <td>500.0 gram</td>\n",
       "    </tr>\n",
       "    <tr>\n",
       "      <th>1</th>\n",
       "      <td>https://m.media-amazon.com/images/I/71gSRbyXmo...</td>\n",
       "      <td>916768</td>\n",
       "      <td>item_volume</td>\n",
       "      <td>1.0 cup</td>\n",
       "    </tr>\n",
       "    <tr>\n",
       "      <th>2</th>\n",
       "      <td>https://m.media-amazon.com/images/I/61BZ4zrjZX...</td>\n",
       "      <td>459516</td>\n",
       "      <td>item_weight</td>\n",
       "      <td>0.709 gram</td>\n",
       "    </tr>\n",
       "    <tr>\n",
       "      <th>3</th>\n",
       "      <td>https://m.media-amazon.com/images/I/612mrlqiI4...</td>\n",
       "      <td>459516</td>\n",
       "      <td>item_weight</td>\n",
       "      <td>0.709 gram</td>\n",
       "    </tr>\n",
       "    <tr>\n",
       "      <th>4</th>\n",
       "      <td>https://m.media-amazon.com/images/I/617Tl40LOX...</td>\n",
       "      <td>731432</td>\n",
       "      <td>item_weight</td>\n",
       "      <td>1400 milligram</td>\n",
       "    </tr>\n",
       "  </tbody>\n",
       "</table>\n",
       "</div>"
      ],
      "text/plain": [
       "                                          image_link  group_id  entity_name  \\\n",
       "0  https://m.media-amazon.com/images/I/61I9XdN6OF...    748919  item_weight   \n",
       "1  https://m.media-amazon.com/images/I/71gSRbyXmo...    916768  item_volume   \n",
       "2  https://m.media-amazon.com/images/I/61BZ4zrjZX...    459516  item_weight   \n",
       "3  https://m.media-amazon.com/images/I/612mrlqiI4...    459516  item_weight   \n",
       "4  https://m.media-amazon.com/images/I/617Tl40LOX...    731432  item_weight   \n",
       "\n",
       "     entity_value  \n",
       "0      500.0 gram  \n",
       "1         1.0 cup  \n",
       "2      0.709 gram  \n",
       "3      0.709 gram  \n",
       "4  1400 milligram  "
      ]
     },
     "execution_count": 3,
     "metadata": {},
     "output_type": "execute_result"
    }
   ],
   "source": [
    "df = pd.read_csv('dataset/train.csv')\n",
    "df.head()"
   ]
  },
  {
   "cell_type": "code",
   "execution_count": 4,
   "metadata": {},
   "outputs": [
    {
     "data": {
      "text/plain": [
       "Index(['image_link', 'group_id', 'entity_name', 'entity_value'], dtype='object')"
      ]
     },
     "execution_count": 4,
     "metadata": {},
     "output_type": "execute_result"
    }
   ],
   "source": [
    "df.columns"
   ]
  },
  {
   "cell_type": "code",
   "execution_count": 5,
   "metadata": {},
   "outputs": [
    {
     "data": {
      "text/plain": [
       "image_link      object\n",
       "group_id         int64\n",
       "entity_name     object\n",
       "entity_value    object\n",
       "dtype: object"
      ]
     },
     "execution_count": 5,
     "metadata": {},
     "output_type": "execute_result"
    }
   ],
   "source": [
    "df.dtypes"
   ]
  },
  {
   "cell_type": "code",
   "execution_count": 6,
   "metadata": {},
   "outputs": [
    {
     "data": {
      "text/plain": [
       "(263859, 4)"
      ]
     },
     "execution_count": 6,
     "metadata": {},
     "output_type": "execute_result"
    }
   ],
   "source": [
    "df.shape"
   ]
  },
  {
   "cell_type": "code",
   "execution_count": 7,
   "metadata": {},
   "outputs": [
    {
     "name": "stdout",
     "output_type": "stream",
     "text": [
      "<class 'pandas.core.frame.DataFrame'>\n",
      "RangeIndex: 263859 entries, 0 to 263858\n",
      "Data columns (total 4 columns):\n",
      " #   Column        Non-Null Count   Dtype \n",
      "---  ------        --------------   ----- \n",
      " 0   image_link    263859 non-null  object\n",
      " 1   group_id      263859 non-null  int64 \n",
      " 2   entity_name   263859 non-null  object\n",
      " 3   entity_value  263859 non-null  object\n",
      "dtypes: int64(1), object(3)\n",
      "memory usage: 8.1+ MB\n"
     ]
    }
   ],
   "source": [
    "df.info()"
   ]
  },
  {
   "cell_type": "code",
   "execution_count": 8,
   "metadata": {},
   "outputs": [
    {
     "data": {
      "text/plain": [
       "array(['item_weight', 'item_volume', 'voltage', 'wattage',\n",
       "       'maximum_weight_recommendation', 'height', 'depth', 'width'],\n",
       "      dtype=object)"
      ]
     },
     "execution_count": 8,
     "metadata": {},
     "output_type": "execute_result"
    }
   ],
   "source": [
    "df['entity_name'].unique()"
   ]
  },
  {
   "cell_type": "code",
   "execution_count": 9,
   "metadata": {},
   "outputs": [
    {
     "data": {
      "text/plain": [
       "group_id\n",
       "459516    9458\n",
       "752266    9063\n",
       "281678    6137\n",
       "308856    5437\n",
       "731432    4741\n",
       "          ... \n",
       "997333       2\n",
       "656506       2\n",
       "314298       2\n",
       "178031       1\n",
       "226428       1\n",
       "Name: count, Length: 750, dtype: int64"
      ]
     },
     "execution_count": 9,
     "metadata": {},
     "output_type": "execute_result"
    }
   ],
   "source": [
    "df['group_id'].value_counts()"
   ]
  },
  {
   "cell_type": "code",
   "execution_count": 10,
   "metadata": {},
   "outputs": [
    {
     "name": "stderr",
     "output_type": "stream",
     "text": [
      "/var/folders/5l/f0_wp_g90h52fxd6wt9668y80000gn/T/ipykernel_36805/4067169204.py:1: DeprecationWarning: DataFrameGroupBy.apply operated on the grouping columns. This behavior is deprecated, and in a future version of pandas the grouping columns will be excluded from the operation. Either pass `include_groups=False` to exclude the groupings or explicitly select the grouping columns after groupby to silence this warning.\n",
      "  new_data_train = df.groupby('entity_name').apply(lambda x: x.sample(n=20, random_state=42)).reset_index(drop=True)\n"
     ]
    }
   ],
   "source": [
    "new_data_train = df.groupby('entity_name').apply(lambda x: x.sample(n=20, random_state=42)).reset_index(drop=True)"
   ]
  },
  {
   "cell_type": "code",
   "execution_count": 11,
   "metadata": {},
   "outputs": [],
   "source": [
    "new_data_train.to_csv('dataset/train_train.csv', index = False)"
   ]
  },
  {
   "cell_type": "code",
   "execution_count": 18,
   "metadata": {},
   "outputs": [
    {
     "name": "stdout",
     "output_type": "stream",
     "text": [
      "Downloaded: 61Am7goxaFL.jpg\n",
      "Downloaded: 51R8AlSuVKL.jpg\n",
      "Downloaded: 51KghPIV6JL.jpg\n",
      "Downloaded: 51gqMA7+K0L.jpg\n",
      "Downloaded: 51YDWb+0+mL.jpg\n",
      "Downloaded: 51544S1oCiL.jpg\n",
      "Downloaded: 51brSZcFF7L.jpg\n",
      "Downloaded: 513bbFLNI+L.jpg\n",
      "Downloaded: 51p84vAQK8L.jpg\n",
      "Downloaded: 51bpjtgntZL.jpg\n",
      "Downloaded: 610FJ8HRCnL.jpg\n",
      "Downloaded: 41KfWMKeN-L.jpg\n",
      "Downloaded: 615oTjEYB0L.jpg\n",
      "Downloaded: 61F6wD4fPFL.jpg\n",
      "Downloaded: 513RMllK3sS.jpg\n",
      "Downloaded: 51mDgaBW3AL.jpg\n",
      "Downloaded: 51SL+qaaFoL.jpg\n",
      "Downloaded: 51-FPHxRNVL.jpg\n",
      "Downloaded: 61ARfalan2L.jpg\n",
      "Downloaded: 51mxkZNEE1L.jpg\n",
      "Downloaded: 617E6iSY7TL.jpg\n",
      "Downloaded: 615RXHRiCeL.jpg\n",
      "Downloaded: 618e4JBlySL.jpg\n",
      "Downloaded: 512togrPRWS.jpg\n",
      "Downloaded: 51BEuD9O1xL.jpg\n",
      "Downloaded: 41YL4Zd434L.jpg\n",
      "Downloaded: 41RoQb62F4L.jpg\n",
      "Downloaded: 51huRiwWonL.jpg\n",
      "Downloaded: 51Og-Te5QRL.jpg\n",
      "Downloaded: 61+NIZOm-gL.jpg\n",
      "Downloaded: 51BptQ-n2RL.jpg\n",
      "Downloaded: 4137LUd3skL.jpg\n",
      "Downloaded: 51FQoxpAi9L.jpg\n",
      "Downloaded: 41lkvY-R9cL.jpg\n",
      "Downloaded: 51GuaIkmb1L.jpg\n",
      "Downloaded: 51N9mWmHaXL.jpg\n",
      "Downloaded: 41bRrtoN+lL.jpg\n",
      "Downloaded: 51q9P6oi4-L.jpg\n",
      "Downloaded: 51ZgFDHmsmL.jpg\n",
      "Downloaded: 612eu1IOs1L.jpg\n",
      "Downloaded: 81FkSx0prEL.jpg\n",
      "Downloaded: 81gHUqN5PZL.jpg\n",
      "Downloaded: 71idPLeOqIL.jpg\n",
      "Downloaded: 71DdnoHPb9L.jpg\n",
      "Downloaded: 714Hq8eCbpL.jpg\n",
      "Downloaded: 91xmKmxc06L.jpg\n",
      "Downloaded: 91EMY-+JoNL.jpg\n",
      "Downloaded: 81DEg8pW2GL.jpg\n",
      "Downloaded: 91ZBqOaQGiL.jpg\n",
      "Downloaded: 51LiJ2ltLTS.jpg\n",
      "Downloaded: 51CMQL8H-XL.jpg\n",
      "Downloaded: 71PSmBF6pRL.jpg\n",
      "Downloaded: 816kgza-NKL.jpg\n",
      "Downloaded: 71KmLg8bG8L.jpg\n",
      "Downloaded: 71EPtrcWArL.jpg\n",
      "Downloaded: 81owwudAD2L.jpg\n",
      "Downloaded: 81y7wippvQL.jpg\n",
      "Downloaded: 71smyxl4D0L.jpg\n",
      "Downloaded: 81lEh56i+qL.jpg\n",
      "Downloaded: 7137DtOm1WL.jpg\n",
      "Downloaded: 71WpHwZHAML.jpg\n",
      "Downloaded: 61LLE5kWCJL.jpg\n",
      "Downloaded: 81gceM5l2iL.jpg\n",
      "Downloaded: 71WhzY+-0aL.jpg\n",
      "Downloaded: 81nptWTuXLL.jpg\n",
      "Downloaded: 81qAgMnjSSL.jpg\n",
      "Downloaded: 61EOEwhxPdL.jpg\n",
      "Downloaded: 714pztRULNS.jpg\n",
      "Downloaded: 71YOloPzwqL.jpg\n",
      "Downloaded: 814Lhhywx9L.jpg\n",
      "Downloaded: 71S5VcBG45L.jpg\n",
      "Downloaded: 71VJB6Jl5yL.jpg\n",
      "Downloaded: 51dIePpXq+L.jpg\n",
      "Downloaded: 812Al9XLzbL.jpg\n",
      "Downloaded: 71L0CkKFRKL.jpg\n",
      "Downloaded: 61DucqiFaeS.jpg\n",
      "Downloaded: 71MSDtv-70L.jpg\n",
      "Downloaded: 31-QAoUmMML.jpg\n",
      "Downloaded: 7104ZoAdcSL.jpg\n",
      "Downloaded: 81-IreNzIaL.jpg\n",
      "Downloaded: 71anpO7gswL.jpg\n",
      "Downloaded: 71J8+lHwFmL.jpg\n",
      "Downloaded: 51w8x1a9KiL.jpg\n",
      "Downloaded: 71kgM9Vb32L.jpg\n",
      "Downloaded: 81UAPYS0KpL.jpg\n",
      "Downloaded: 71R95nkABbL.jpg\n",
      "Downloaded: 71sNPu8xh8L.jpg\n",
      "Downloaded: 61YzJNTQ9FL.jpg\n",
      "Downloaded: 61LoMcE7VLL.jpg\n",
      "Downloaded: 81V5VhsbXHS.jpg\n",
      "Downloaded: 71N-RHemneL.jpg\n",
      "Downloaded: 61idgPBNG9L.jpg\n",
      "Downloaded: 61kFvEK54yL.jpg\n",
      "Downloaded: 51hEKUzSEVL.jpg\n",
      "Downloaded: 61jfOnF8DyL.jpg\n",
      "Downloaded: 81uYnbA3O+L.jpg\n",
      "Downloaded: 51I6ch0UcPL.jpg\n",
      "Downloaded: 51gftlIWqCS.jpg\n",
      "Downloaded: 612YOqEG2hL.jpg\n",
      "Downloaded: 71n4iqvfLZL.jpg\n",
      "Downloaded: 81M+LNYxNyL.jpg\n",
      "Downloaded: 41qDdRo6EJL.jpg\n",
      "Downloaded: 71PD2oyETuL.jpg\n",
      "Downloaded: 81P9nGvgcGL.jpg\n",
      "Downloaded: 81OuPv8f76L.jpg\n",
      "Downloaded: 41waBWCJLbL.jpg\n",
      "Downloaded: 51-8rtC8kzL.jpg\n",
      "Downloaded: 71MF66ohicS.jpg\n",
      "Downloaded: 61bTZNhlTEL.jpg\n",
      "Downloaded: 71cGq1lWiCL.jpg\n",
      "Downloaded: 61rbdGlNctL.jpg\n",
      "Downloaded: 61NW78Xtp8L.jpg\n",
      "Downloaded: 71Mv9Jgp1rL.jpg\n",
      "Downloaded: 711yOeZlPbL.jpg\n",
      "Downloaded: 712ENc-RXOL.jpg\n",
      "Downloaded: 61Y+qqF0-kL.jpg\n",
      "Downloaded: 91m2kiHxNeL.jpg\n",
      "Downloaded: 61ghMugUP8L.jpg\n",
      "Downloaded: 71e3HSFfrbL.jpg\n",
      "Downloaded: 61AEHrjp7OL.jpg\n",
      "Downloaded: 51Na+Ym6mrL.jpg\n",
      "Downloaded: 712xVfULgzL.jpg\n",
      "Downloaded: 51m-AlhTa0L.jpg\n",
      "Downloaded: 71dJNiktQhL.jpg\n",
      "Downloaded: 518chMFNoYL.jpg\n",
      "Downloaded: 4155-mT5dHL.jpg\n",
      "Downloaded: 71X1t5tyrFL.jpg\n",
      "Downloaded: 71IiCkHLRUL.jpg\n",
      "Downloaded: 61kh4EsIp+L.jpg\n",
      "Downloaded: 71b96sXHV9L.jpg\n",
      "Downloaded: 711ujGTBCPL.jpg\n",
      "Downloaded: 61R6sdETX9L.jpg\n",
      "Downloaded: 61vgoVAbq6S.jpg\n",
      "Downloaded: 71ZjN3BvS2L.jpg\n",
      "Downloaded: 71fQJu8uexL.jpg\n",
      "Downloaded: 81DgMV1e5rL.jpg\n",
      "Downloaded: 616xgAf6b7L.jpg\n",
      "Downloaded: 71+njLByDLL.jpg\n",
      "Downloaded: 61Yv23aN4yL.jpg\n",
      "Downloaded: 71fOnNOm+tL.jpg\n",
      "Downloaded: 51iWx2s44AL.jpg\n",
      "Downloaded: 619jNFSyzGL.jpg\n",
      "Downloaded: 51dxN-6+c4L.jpg\n",
      "Downloaded: 61-S+WHMY1L.jpg\n",
      "Downloaded: 51piWeoJSIL.jpg\n",
      "Downloaded: 51zTlQ23CgL.jpg\n",
      "Downloaded: 51dpTgS3DYL.jpg\n",
      "Downloaded: 51UwymbXtkL.jpg\n",
      "Downloaded: 41i9buD36UL.jpg\n",
      "Downloaded: 61C+7Nw5RnL.jpg\n",
      "Downloaded: 51C-E6fWdKS.jpg\n",
      "Downloaded: 51Zh-AwtN2L.jpg\n",
      "Downloaded: 51aWxxjZT2L.jpg\n",
      "Downloaded: 618kaa0ITuL.jpg\n",
      "Downloaded: 51ehdFL-aJL.jpg\n",
      "Downloaded: 518Ty-YkyTL.jpg\n",
      "Downloaded: 6196bwX93DL.jpg\n",
      "Downloaded: 51QAmiraOLL.jpg\n",
      "Downloaded: 51GYtjTRJaL.jpg\n",
      "Downloaded: 51MaeBs2faL.jpg\n"
     ]
    }
   ],
   "source": [
    "import os\n",
    "import pandas as pd\n",
    "import requests\n",
    "from urllib.parse import urlsplit\n",
    "\n",
    "# Create a folder to save images if it doesn't exist\n",
    "image_folder = 'dataset/Training'\n",
    "if not os.path.exists(image_folder):\n",
    "    os.makedirs(image_folder)\n",
    "\n",
    "# Function to download and save an image\n",
    "def download_image(image_url, folder):\n",
    "    try:\n",
    "        # Extract image name from the URL\n",
    "        image_name = urlsplit(image_url).path.split(\"/\")[-1]\n",
    "        image_path = os.path.join(folder, image_name)\n",
    "        \n",
    "        # Send a request to download the image\n",
    "        response = requests.get(image_url, stream=True)\n",
    "        \n",
    "        # Check if the request was successful\n",
    "        if response.status_code == 200:\n",
    "            # Write the image data to a file\n",
    "            with open(image_path, 'wb') as img_file:\n",
    "                for chunk in response.iter_content(1024):\n",
    "                    img_file.write(chunk)\n",
    "            print(f\"Downloaded: {image_name}\")\n",
    "        else:\n",
    "            print(f\"Failed to download: {image_url}\")\n",
    "    except Exception as e:\n",
    "        print(f\"Error downloading {image_url}: {e}\")\n",
    "\n",
    "# Iterate through the image links and download them\n",
    "for index, row in new_data_train.iterrows():\n",
    "    download_image(row['image_link'], image_folder)\n"
   ]
  },
  {
   "cell_type": "code",
   "execution_count": null,
   "metadata": {},
   "outputs": [],
   "source": []
  }
 ],
 "metadata": {
  "kernelspec": {
   "display_name": "amazonenv",
   "language": "python",
   "name": "python3"
  },
  "language_info": {
   "codemirror_mode": {
    "name": "ipython",
    "version": 3
   },
   "file_extension": ".py",
   "mimetype": "text/x-python",
   "name": "python",
   "nbconvert_exporter": "python",
   "pygments_lexer": "ipython3",
   "version": "3.12.5"
  }
 },
 "nbformat": 4,
 "nbformat_minor": 2
}
